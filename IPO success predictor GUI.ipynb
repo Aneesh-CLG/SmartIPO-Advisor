{
 "cells": [
  {
   "cell_type": "code",
   "execution_count": 3,
   "metadata": {},
   "outputs": [],
   "source": [
    "import pandas as pd\n",
    "import numpy as numpy\n",
    "import matplotlib.pyplot as plt\n",
    "import seaborn as sns"
   ]
  },
  {
   "cell_type": "code",
   "execution_count": 4,
   "metadata": {},
   "outputs": [],
   "source": [
    "data = pd.read_csv(r\"E:\\cursor\\IPO chart preparation and performance measure\\IPO_data.csv\")"
   ]
  },
  {
   "cell_type": "code",
   "execution_count": 6,
   "metadata": {},
   "outputs": [],
   "source": [
    "from sklearn.model_selection import train_test_split\n",
    "from sklearn.preprocessing import StandardScaler\n",
    "from sklearn.linear_model import LogisticRegression\n",
    "from sklearn.metrics import classification_report, confusion_matrix, accuracy_score"
   ]
  },
  {
   "cell_type": "code",
   "execution_count": 7,
   "metadata": {},
   "outputs": [],
   "source": [
    "data = data.dropna(subset=['Is_Successful'])\n",
    "\n",
    "features = ['Issue Price', 'Listing Day Close', 'Listing Day Gain', 'Current Price']\n",
    "df = data.dropna(subset=features)  \n",
    "\n",
    "X = df[features]\n",
    "y = df['Is_Successful']\n",
    "scaler = StandardScaler()\n",
    "X_scaled = scaler.fit_transform(X)\n",
    "X_train, X_test, y_train, y_test = train_test_split(X_scaled, y, test_size=0.2, random_state=42)"
   ]
  },
  {
   "cell_type": "code",
   "execution_count": 8,
   "metadata": {},
   "outputs": [
    {
     "name": "stdout",
     "output_type": "stream",
     "text": [
      "Random Forest Accuracy: 0.9464285714285714\n",
      "              precision    recall  f1-score   support\n",
      "\n",
      "           0       0.95      1.00      0.97        52\n",
      "           1       1.00      0.25      0.40         4\n",
      "\n",
      "    accuracy                           0.95        56\n",
      "   macro avg       0.97      0.62      0.69        56\n",
      "weighted avg       0.95      0.95      0.93        56\n",
      "\n"
     ]
    }
   ],
   "source": [
    "from sklearn.ensemble import RandomForestClassifier\n",
    "\n",
    "rf = RandomForestClassifier(n_estimators=100, random_state=42)\n",
    "rf.fit(X_train, y_train)\n",
    "y_rf_pred = rf.predict(X_test)\n",
    "\n",
    "print(\"Random Forest Accuracy:\", accuracy_score(y_test, y_rf_pred))\n",
    "print(classification_report(y_test, y_rf_pred))\n"
   ]
  },
  {
   "cell_type": "code",
   "execution_count": 9,
   "metadata": {},
   "outputs": [
    {
     "data": {
      "text/plain": [
       "['scaler.pkl']"
      ]
     },
     "execution_count": 9,
     "metadata": {},
     "output_type": "execute_result"
    }
   ],
   "source": [
    "import joblib\n",
    "joblib.dump(rf, \"rf_model.pkl\")\n",
    "joblib.dump(scaler, \"scaler.pkl\")"
   ]
  },
  {
   "cell_type": "code",
   "execution_count": 12,
   "metadata": {},
   "outputs": [
    {
     "name": "stdout",
     "output_type": "stream",
     "text": [
      "* Running on local URL:  http://127.0.0.1:7862\n",
      "* To create a public link, set `share=True` in `launch()`.\n"
     ]
    },
    {
     "data": {
      "text/html": [
       "<div><iframe src=\"http://127.0.0.1:7862/\" width=\"100%\" height=\"500\" allow=\"autoplay; camera; microphone; clipboard-read; clipboard-write;\" frameborder=\"0\" allowfullscreen></iframe></div>"
      ],
      "text/plain": [
       "<IPython.core.display.HTML object>"
      ]
     },
     "metadata": {},
     "output_type": "display_data"
    },
    {
     "data": {
      "text/plain": []
     },
     "execution_count": 12,
     "metadata": {},
     "output_type": "execute_result"
    },
    {
     "name": "stderr",
     "output_type": "stream",
     "text": [
      "C:\\Users\\Aneesh Mada\\anaconda3\\Lib\\site-packages\\sklearn\\utils\\validation.py:2739: UserWarning: X does not have valid feature names, but StandardScaler was fitted with feature names\n",
      "  warnings.warn(\n",
      "C:\\Users\\Aneesh Mada\\anaconda3\\Lib\\site-packages\\sklearn\\utils\\validation.py:2739: UserWarning: X does not have valid feature names, but StandardScaler was fitted with feature names\n",
      "  warnings.warn(\n",
      "C:\\Users\\Aneesh Mada\\anaconda3\\Lib\\site-packages\\sklearn\\utils\\validation.py:2739: UserWarning: X does not have valid feature names, but StandardScaler was fitted with feature names\n",
      "  warnings.warn(\n",
      "C:\\Users\\Aneesh Mada\\anaconda3\\Lib\\site-packages\\sklearn\\utils\\validation.py:2739: UserWarning: X does not have valid feature names, but StandardScaler was fitted with feature names\n",
      "  warnings.warn(\n",
      "C:\\Users\\Aneesh Mada\\anaconda3\\Lib\\site-packages\\sklearn\\utils\\validation.py:2739: UserWarning: X does not have valid feature names, but StandardScaler was fitted with feature names\n",
      "  warnings.warn(\n",
      "C:\\Users\\Aneesh Mada\\anaconda3\\Lib\\site-packages\\sklearn\\utils\\validation.py:2739: UserWarning: X does not have valid feature names, but StandardScaler was fitted with feature names\n",
      "  warnings.warn(\n"
     ]
    }
   ],
   "source": [
    "import gradio as gr\n",
    "import numpy as np\n",
    "import joblib\n",
    "\n",
    "# Load model and scaler\n",
    "model = joblib.load(\"rf_model.pkl\")\n",
    "scaler = joblib.load(\"scaler.pkl\")\n",
    "\n",
    "# Ideal benchmarks from your data\n",
    "IDEAL = {\n",
    "    \"Issue Price\": (45.5, 52),\n",
    "    \"Listing Day Gain (%)\": (2.5, 31.67),\n",
    "    \"Current Price\": 1110.43,\n",
    "    \"Profit/Loss (%)\": 20.67,\n",
    "}\n",
    "\n",
    "# Generate insights based on benchmarks\n",
    "def generate_insights(issue_price, gain_percent, current_price):\n",
    "    insights = []\n",
    "\n",
    "    # Listing Day Gain\n",
    "    if gain_percent >= IDEAL[\"Listing Day Gain (%)\"][0]:\n",
    "        insights.append(f\"✅ Listing Gain: {gain_percent:.2f}% ≥ {IDEAL['Listing Day Gain (%)'][0]}%\")\n",
    "    else:\n",
    "        insights.append(f\"⚠️ Listing Gain too low: {gain_percent:.2f}% < {IDEAL['Listing Day Gain (%)'][0]}%\")\n",
    "\n",
    "    # Current Price Momentum\n",
    "    ideal_cp_threshold = issue_price * 1.10\n",
    "    if current_price >= ideal_cp_threshold:\n",
    "        insights.append(f\"✅ Current Price ₹{current_price:.2f} ≥ ₹{ideal_cp_threshold:.2f} (10% above issue)\")\n",
    "    else:\n",
    "        insights.append(f\"⚠️ Current Price ₹{current_price:.2f} < ₹{ideal_cp_threshold:.2f} — Weak momentum\")\n",
    "\n",
    "    # Issue Price Range\n",
    "    if IDEAL[\"Issue Price\"][0] <= issue_price <= IDEAL[\"Issue Price\"][1]:\n",
    "        insights.append(f\"✅ Issue Price ₹{issue_price:.2f} — In ideal range (₹{IDEAL['Issue Price'][0]}–₹{IDEAL['Issue Price'][1]})\")\n",
    "    else:\n",
    "        insights.append(f\"⚠️ Issue Price ₹{issue_price:.2f} — Outside ideal range (₹{IDEAL['Issue Price'][0]}–₹{IDEAL['Issue Price'][1]})\")\n",
    "\n",
    "    return \"\\n\".join(insights)\n",
    "\n",
    "# Prediction and benchmark comparison\n",
    "def predict_and_explain(issue_price, gain_percent, current_price):\n",
    "    try:\n",
    "        gain = gain_percent / 100.0\n",
    "        listing_close = issue_price * (1 + gain)\n",
    "        profit_loss = ((current_price - issue_price) / issue_price) * 100\n",
    "\n",
    "        features = np.array([[issue_price, listing_close, gain, current_price]])\n",
    "        scaled = scaler.transform(features)\n",
    "        prediction = model.predict(scaled)[0]\n",
    "        proba = model.predict_proba(scaled)[0][1]\n",
    "\n",
    "        label = \"✅ Successful IPO!\" if prediction == 1 else \"❌ Unsuccessful IPO\"\n",
    "        label += f\" (Confidence: {proba:.2f})\"\n",
    "\n",
    "        # Insights\n",
    "        insights = generate_insights(issue_price, gain_percent, current_price)\n",
    "        listing_close_str = f\"📈 Listing Close = ₹{listing_close:.2f}\\n💼 Profit/Loss = {profit_loss:.2f}%\\n\"\n",
    "        return label, listing_close_str + insights\n",
    "\n",
    "    except Exception as e:\n",
    "        return \"⚠️ Error\", f\"Error in processing: {e}\"\n",
    "\n",
    "# Gradio interface\n",
    "iface = gr.Interface(\n",
    "    fn=predict_and_explain,\n",
    "    inputs=[\n",
    "        gr.Number(label=\"Issue Price (₹)\"),\n",
    "        gr.Number(label=\"Listing Day Gain (%)\"),\n",
    "        gr.Number(label=\"Current Price (₹)\")\n",
    "    ],\n",
    "    outputs=[\n",
    "        gr.Text(label=\"IPO Prediction & Confidence\"),\n",
    "        gr.Text(label=\"Numerical Insights + Benchmarks\")\n",
    "    ],\n",
    "    title=\"📊 IPO Success Predictor with Real Benchmarks\",\n",
    "    description=\"Enter your IPO parameters and compare with benchmark values from past successful IPOs.\"\n",
    ")\n",
    "\n",
    "iface.launch()\n"
   ]
  },
  {
   "cell_type": "code",
   "execution_count": null,
   "metadata": {},
   "outputs": [],
   "source": []
  }
 ],
 "metadata": {
  "kernelspec": {
   "display_name": "Python 3 (ipykernel)",
   "language": "python",
   "name": "python3"
  },
  "language_info": {
   "codemirror_mode": {
    "name": "ipython",
    "version": 3
   },
   "file_extension": ".py",
   "mimetype": "text/x-python",
   "name": "python",
   "nbconvert_exporter": "python",
   "pygments_lexer": "ipython3",
   "version": "3.11.7"
  }
 },
 "nbformat": 4,
 "nbformat_minor": 2
}
